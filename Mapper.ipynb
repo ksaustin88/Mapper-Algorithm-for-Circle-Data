{
 "cells": [
  {
   "cell_type": "code",
   "execution_count": 10,
   "metadata": {},
   "outputs": [],
   "source": [
    "### Generate Dummy Circle to Test with\n",
    "circle = []\n",
    "x= -1\n",
    "while x <= 1:\n",
    "    y=-1\n",
    "    while y <= 1:\n",
    "        if .75 <= x**2 + y**2 <= 1.25:\n",
    "            circle.append((x,y))\n",
    "        y += .25\n",
    "    x += .25"
   ]
  },
  {
   "cell_type": "code",
   "execution_count": 11,
   "metadata": {},
   "outputs": [],
   "source": [
    "#### Create Dummy Cover of circle\n",
    "\n",
    "Cover = []\n",
    "for i in range(4):\n",
    "    x_i = []\n",
    "    for x in circle:\n",
    "        if -1+i*.5 <=x[1] <=-1+(i+1)*.5:\n",
    "            x_i.append(x)\n",
    "    Cover.append(x_i)  \n",
    "for i in range(5):\n",
    "    x_i = []\n",
    "    for x in circle:\n",
    "        if -1.25+i*.5 <= x[1] <= -1.25+(i+1)*.5:\n",
    "            x_i.append(x)\n",
    "    Cover.append(x_i) \n",
    "    \n",
    "\n"
   ]
  },
  {
   "cell_type": "code",
   "execution_count": 12,
   "metadata": {},
   "outputs": [],
   "source": [
    "#### Components of Cover\n",
    "\n",
    "from sklearn.cluster import KMeans\n",
    "import numpy as np\n",
    "\n",
    "def new_cover(Cover, k ):\n",
    "    New_Cover = []\n",
    "    for x in Cover:\n",
    "        kmeans = KMeans(n_clusters=k, random_state=0).fit(x)   \n",
    "        for i in range(k):\n",
    "            x_i = []\n",
    "            for j in range(len(x)):\n",
    "                if kmeans.labels_[j] == i:\n",
    "                    x_i.append(x[j])\n",
    "            New_Cover.append(x_i)\n",
    "    return New_Cover\n",
    "    "
   ]
  },
  {
   "cell_type": "code",
   "execution_count": 13,
   "metadata": {},
   "outputs": [],
   "source": [
    "\n",
    "### Intersection Function\n",
    "\n",
    "def intersection(lst1, lst2): \n",
    "    lst3 = [value for value in lst1 if value in lst2] \n",
    "    return lst3 "
   ]
  },
  {
   "cell_type": "code",
   "execution_count": 14,
   "metadata": {},
   "outputs": [],
   "source": [
    "### gives n X n matrix of 3's\n",
    "def random_matrix_maker(n):\n",
    "    matrix = []\n",
    "    for i in range(n):\n",
    "        row = []\n",
    "        for j in range(n):\n",
    "            row.append(3)\n",
    "        matrix.append(row)\n",
    "    return matrix"
   ]
  },
  {
   "cell_type": "code",
   "execution_count": 15,
   "metadata": {},
   "outputs": [],
   "source": [
    "#### Cover to adjacency matrix\n",
    "def cover_to_adj_matrix(Cover,k):\n",
    "    X = new_cover(Cover,k)\n",
    "    n = len(new_cover(Cover,k))\n",
    "    matrix = random_matrix_maker(n)\n",
    "    for i in range(n):\n",
    "        for j in range(n):\n",
    "            if len(intersection(X[i],X[j])) > 0:\n",
    "                matrix[i][j] = 1\n",
    "            else: matrix[i][j] = 0\n",
    "    return matrix"
   ]
  },
  {
   "cell_type": "code",
   "execution_count": 16,
   "metadata": {},
   "outputs": [
    {
     "data": {
      "image/png": "[encoded data removed]",
      "text/plain": [
       "<Figure size 432x288 with 1 Axes>"
      ]
     },
     "metadata": {},
     "output_type": "display_data"
    }
   ],
   "source": [
    "\n",
    "#### Matrix to Graph\n",
    "\n",
    "import networkx as nx\n",
    "import numpy as np\n",
    "\n",
    "A = cover_to_adj_matrix(Cover,2)\n",
    "\n",
    "G = nx.from_numpy_matrix(np.array(A)) \n",
    "nx.draw(G, with_labels=True)\n"
   ]
  },
  {
   "cell_type": "code",
   "execution_count": 17,
   "metadata": {},
   "outputs": [],
   "source": [
    "\n",
    "##### Testing Function\n",
    "\n",
    "def testing(Cover, k=2):\n",
    "    X = new_cover(Cover,k)\n",
    "    print(X)\n",
    "    A = cover_to_adj_matrix(Cover,k)\n",
    "    G = nx.from_numpy_matrix(np.array(A)) \n",
    "    nx.draw(G, with_labels=True)"
   ]
  },
  {
   "cell_type": "code",
   "execution_count": null,
   "metadata": {},
   "outputs": [],
   "source": []
  },
  {
   "cell_type": "code",
   "execution_count": null,
   "metadata": {},
   "outputs": [],
   "source": []
  }
 ],
 "metadata": {
  "kernelspec": {
   "display_name": "Python 3",
   "language": "python",
   "name": "python3"
  },
  "language_info": {
   "codemirror_mode": {
    "name": "ipython",
    "version": 3
   },
   "file_extension": ".py",
   "mimetype": "text/x-python",
   "name": "python",
   "nbconvert_exporter": "python",
   "pygments_lexer": "ipython3",
   "version": "3.7.0"
  }
 },
 "nbformat": 4,
 "nbformat_minor": 2
}
